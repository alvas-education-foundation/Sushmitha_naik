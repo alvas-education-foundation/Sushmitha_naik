{
  "nbformat": 4,
  "nbformat_minor": 0,
  "metadata": {
    "colab": {
      "name": "day3 session2 assignments.ipynb",
      "provenance": [],
      "authorship_tag": "ABX9TyOlwjmLfCIdnyW+q1VDyV/1",
      "include_colab_link": true
    },
    "kernelspec": {
      "name": "python3",
      "display_name": "Python 3"
    }
  },
  "cells": [
    {
      "cell_type": "markdown",
      "metadata": {
        "id": "view-in-github",
        "colab_type": "text"
      },
      "source": [
        "<a href=\"https://colab.research.google.com/github/alvas-education-foundation/Sushmitha_naik/blob/master/day3_session2_assignments.ipynb\" target=\"_parent\"><img src=\"https://colab.research.google.com/assets/colab-badge.svg\" alt=\"Open In Colab\"/></a>"
      ]
    },
    {
      "cell_type": "code",
      "metadata": {
        "id": "G8y458-DA31K",
        "colab_type": "code",
        "colab": {
          "base_uri": "https://localhost:8080/",
          "height": 72
        },
        "outputId": "4a28ac10-373a-4cb4-a126-c0d71f26998d"
      },
      "source": [
        "#Write a Python Program to Print Multiplication Table of a  number which got through keyboard.\n",
        "n = int(input(\"Enter value n: \"))\n",
        "print([str(n)+\" x \"+str(i)+\" = \" + str(n*i) for i in range(1,11)])"
      ],
      "execution_count": 1,
      "outputs": [
        {
          "output_type": "stream",
          "text": [
            "Enter value n: 24\n",
            "['24 x 1 = 24', '24 x 2 = 48', '24 x 3 = 72', '24 x 4 = 96', '24 x 5 = 120', '24 x 6 = 144', '24 x 7 = 168', '24 x 8 = 192', '24 x 9 = 216', '24 x 10 = 240']\n"
          ],
          "name": "stdout"
        }
      ]
    },
    {
      "cell_type": "code",
      "metadata": {
        "id": "7gcGEbalCWBU",
        "colab_type": "code",
        "colab": {
          "base_uri": "https://localhost:8080/",
          "height": 35
        },
        "outputId": "49906437-2c93-4a5d-afd5-cbcd0ff2b63c"
      },
      "source": [
        "#Write a  Python Program to find the Armstrong Numbers between 1 and 2000 ( i.e 153 is amtrong numbers as 1**3+5**3+3**3=153 )\n",
        "\n",
        "li =[]\n",
        "for i in range(1,2000):\n",
        "  l = len(str(i))\n",
        "  sum=0\n",
        "  temp=i\n",
        "  while temp>0:\n",
        "    a = temp%10\n",
        "    sum += a ** l\n",
        "    temp //=10\n",
        "  if i == sum:\n",
        "    li.append(i)\n",
        "print(li)"
      ],
      "execution_count": 2,
      "outputs": [
        {
          "output_type": "stream",
          "text": [
            "[1, 2, 3, 4, 5, 6, 7, 8, 9, 153, 370, 371, 407, 1634]\n"
          ],
          "name": "stdout"
        }
      ]
    },
    {
      "cell_type": "code",
      "metadata": {
        "id": "zX8M2tqYCWMg",
        "colab_type": "code",
        "colab": {
          "base_uri": "https://localhost:8080/",
          "height": 173
        },
        "outputId": "388b7f30-85c7-4df7-ef76-697d2f105193"
      },
      "source": [
        "#Write a python program to get the list of tuples (rollno, name) for n students by getting rollno and name through keyboard. Sort and print  them as rollno wise and name wise both ascending and descending as well as alphabetical and dealphabetical orders\n",
        "\n",
        "li = []\n",
        "n = int(input(\"Enter value n: \"))\n",
        "for i in range(n):\n",
        "  rollno = input(\"Enter roll.no: \")\n",
        "  name = input(\"Enter name: \")\n",
        "  li.append((rollno,name))\n",
        "print(\"Ascending order (roll.no): \"+str(sorted(li)))\n",
        "li.sort(reverse=True)\n",
        "print(\"Descending order (roll.no): \"+str(li))\n",
        "li.sort(key = lambda x:x[1])\n",
        "print(\"Alphabetical order: \"+ str(li))\n",
        "li.sort(key = lambda x: x[1],reverse=True)\n",
        "print(\"Dealphabetical order: \"+ str(li))"
      ],
      "execution_count": 4,
      "outputs": [
        {
          "output_type": "stream",
          "text": [
            "Enter value n: 2\n",
            "Enter roll.no: 3\n",
            "Enter name: sush\n",
            "Enter roll.no: 4\n",
            "Enter name: bush\n",
            "Ascending order (roll.no): [('3', 'sush'), ('4', 'bush')]\n",
            "Descending order (roll.no): [('4', 'bush'), ('3', 'sush')]\n",
            "Alphabetical order: [('4', 'bush'), ('3', 'sush')]\n",
            "Dealphabetical order: [('3', 'sush'), ('4', 'bush')]\n"
          ],
          "name": "stdout"
        }
      ]
    },
    {
      "cell_type": "code",
      "metadata": {
        "id": "y_TRQsN0CfBk",
        "colab_type": "code",
        "colab": {
          "base_uri": "https://localhost:8080/",
          "height": 69
        },
        "outputId": "8c8deb7a-b9be-4823-c4a1-851d1aa36aa9"
      },
      "source": [
        "#Python Program to Detect if Two Strings are Anagrams ( They are  the two strings which have same length and same words which may be different in their order)\n",
        "\n",
        "s1 = input(\"Enter first string: \")\n",
        "s2 = input(\"Enter second string: \")\n",
        "\n",
        "if(sorted(s1) == sorted(s2)):\n",
        "  print(\"Anagrams\")\n",
        "else:\n",
        "  print(\"Not Anagrams\")"
      ],
      "execution_count": 5,
      "outputs": [
        {
          "output_type": "stream",
          "text": [
            "Enter first string: sush\n",
            "Enter second string: bush\n",
            "Not Anagrams\n"
          ],
          "name": "stdout"
        }
      ]
    }
  ]
}