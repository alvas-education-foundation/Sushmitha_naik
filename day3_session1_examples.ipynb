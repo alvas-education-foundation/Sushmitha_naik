{
  "nbformat": 4,
  "nbformat_minor": 0,
  "metadata": {
    "colab": {
      "name": "day3 session1 examples.ipynb",
      "provenance": [],
      "authorship_tag": "ABX9TyPz7Wkzg8lrakl0XTJ5Cjhb",
      "include_colab_link": true
    },
    "kernelspec": {
      "name": "python3",
      "display_name": "Python 3"
    }
  },
  "cells": [
    {
      "cell_type": "markdown",
      "metadata": {
        "id": "view-in-github",
        "colab_type": "text"
      },
      "source": [
        "<a href=\"https://colab.research.google.com/github/alvas-education-foundation/Sushmitha_naik/blob/master/day3_session1_examples.ipynb\" target=\"_parent\"><img src=\"https://colab.research.google.com/assets/colab-badge.svg\" alt=\"Open In Colab\"/></a>"
      ]
    },
    {
      "cell_type": "code",
      "metadata": {
        "id": "8_8jlsPZ9w0L",
        "colab_type": "code",
        "colab": {
          "base_uri": "https://localhost:8080/",
          "height": 35
        },
        "outputId": "99c4b02b-c84b-451d-fdd6-91b6ec4a65c1"
      },
      "source": [
        "#Program for prime number\n",
        "\n",
        "i=29\n",
        "for x in range(2, i//2+1):\n",
        "      if i%x==0:\n",
        "         print(\"The number {} is not prime\".format(i))\n",
        "         break\n",
        "else:\n",
        "    print (\"{} is a prime number\".format(i))"
      ],
      "execution_count": 1,
      "outputs": [
        {
          "output_type": "stream",
          "text": [
            "29 is a prime number\n"
          ],
          "name": "stdout"
        }
      ]
    },
    {
      "cell_type": "code",
      "metadata": {
        "id": "rOiharWw-KI6",
        "colab_type": "code",
        "colab": {
          "base_uri": "https://localhost:8080/",
          "height": 104
        },
        "outputId": "d770f1e2-1c5f-45e4-c2c2-f25aec529bfc"
      },
      "source": [
        "#Bad unpacking\n",
        "\n",
        "x = (1, 2, 4, 8, 16)\n",
        "a = x[0]\n",
        "b = x[1]\n",
        "c = x[2]\n",
        "d = x[3]\n",
        "e = x[4]\n",
        "print(a, b, c, d, e)\n",
        "\n",
        "#Excellent unpacking\n",
        "\n",
        "a,b,c,d,e=x\n",
        "print(a, b, c, d, e)\n",
        "\n",
        "#unpacking some elements\n",
        "\n",
        "a, *y, e = x\n",
        "print(a)\n",
        "print(y)\n",
        "print(e)"
      ],
      "execution_count": 2,
      "outputs": [
        {
          "output_type": "stream",
          "text": [
            "1 2 4 8 16\n",
            "1 2 4 8 16\n",
            "1\n",
            "[2, 4, 8]\n",
            "16\n"
          ],
          "name": "stdout"
        }
      ]
    },
    {
      "cell_type": "code",
      "metadata": {
        "id": "agMebyQu-KLv",
        "colab_type": "code",
        "colab": {
          "base_uri": "https://localhost:8080/",
          "height": 69
        },
        "outputId": "d1d3838e-b58e-4da6-f222-f33f626f4f32"
      },
      "source": [
        "#Using Chaining to Write Concise Code\n",
        "\n",
        "x = 4\n",
        "print(x >= 2 and x <= 8)\n",
        "\n",
        "print(2 <= x <= 8)\n",
        "print(2 <= x <= 3)"
      ],
      "execution_count": 3,
      "outputs": [
        {
          "output_type": "stream",
          "text": [
            "True\n",
            "True\n",
            "False\n"
          ],
          "name": "stdout"
        }
      ]
    },
    {
      "cell_type": "code",
      "metadata": {
        "id": "ElkaSejw-POl",
        "colab_type": "code",
        "colab": {
          "base_uri": "https://localhost:8080/",
          "height": 35
        },
        "outputId": "e0163c73-646c-445d-bfab-6bdbc37f0d74"
      },
      "source": [
        "#chained assignments\n",
        "\n",
        "x = y =  z = 2\n",
        "print(x, y, z)"
      ],
      "execution_count": 4,
      "outputs": [
        {
          "output_type": "stream",
          "text": [
            "2 2 2\n"
          ],
          "name": "stdout"
        }
      ]
    },
    {
      "cell_type": "code",
      "metadata": {
        "id": "Q44nMWO3-PWj",
        "colab_type": "code",
        "colab": {
          "base_uri": "https://localhost:8080/",
          "height": 87
        },
        "outputId": "4b0ab94d-f069-4165-b4fc-6330f6cdf005"
      },
      "source": [
        "#Checking against None\n",
        "\n",
        "x, y = 2, None\n",
        "print(x == None)\n",
        "print(y == None)\n",
        "print(x != None)\n",
        "print(y != None)"
      ],
      "execution_count": 5,
      "outputs": [
        {
          "output_type": "stream",
          "text": [
            "False\n",
            "True\n",
            "True\n",
            "False\n"
          ],
          "name": "stdout"
        }
      ]
    },
    {
      "cell_type": "code",
      "metadata": {
        "id": "GHvlST-l-Vps",
        "colab_type": "code",
        "colab": {
          "base_uri": "https://localhost:8080/",
          "height": 87
        },
        "outputId": "051b22ba-aa9e-42b4-d2cc-944b7b9a6159"
      },
      "source": [
        "#In pythonic way\n",
        "\n",
        "print(x is None)\n",
        "print(y is None)\n",
        "print(x is not None)\n",
        "print(y is not None)"
      ],
      "execution_count": 6,
      "outputs": [
        {
          "output_type": "stream",
          "text": [
            "False\n",
            "True\n",
            "True\n",
            "False\n"
          ],
          "name": "stdout"
        }
      ]
    },
    {
      "cell_type": "code",
      "metadata": {
        "id": "pmpLsXEd-Z7t",
        "colab_type": "code",
        "colab": {
          "base_uri": "https://localhost:8080/",
          "height": 104
        },
        "outputId": "fb9a6458-b5f8-4ad9-e725-2b5c5a2c1513"
      },
      "source": [
        "#Iterating over Sequences\n",
        "\n",
        "x = [1, 2, 4, 8, 16]\n",
        "for i in range(len(x)):\n",
        "  print(x[i])"
      ],
      "execution_count": 7,
      "outputs": [
        {
          "output_type": "stream",
          "text": [
            "1\n",
            "2\n",
            "4\n",
            "8\n",
            "16\n"
          ],
          "name": "stdout"
        }
      ]
    },
    {
      "cell_type": "code",
      "metadata": {
        "id": "AjNa60Um-aFe",
        "colab_type": "code",
        "colab": {
          "base_uri": "https://localhost:8080/",
          "height": 104
        },
        "outputId": "d488f214-1fdb-45cb-dd07-4519484ac713"
      },
      "source": [
        "#But instead we can do like this in elegant way\n",
        "\n",
        "for item in x:\n",
        "  print(item)"
      ],
      "execution_count": 8,
      "outputs": [
        {
          "output_type": "stream",
          "text": [
            "1\n",
            "2\n",
            "4\n",
            "8\n",
            "16\n"
          ],
          "name": "stdout"
        }
      ]
    },
    {
      "cell_type": "code",
      "metadata": {
        "id": "Z5oW0gY2-ibm",
        "colab_type": "code",
        "colab": {
          "base_uri": "https://localhost:8080/",
          "height": 104
        },
        "outputId": "2b61f2d8-7705-4c3d-cad7-410c54dda7e2"
      },
      "source": [
        "#to iterate in the reversed order\n",
        "\n",
        "for i in range(len(x)-1, -1, -1):\n",
        "  print(x[i])"
      ],
      "execution_count": 9,
      "outputs": [
        {
          "output_type": "stream",
          "text": [
            "16\n",
            "8\n",
            "4\n",
            "2\n",
            "1\n"
          ],
          "name": "stdout"
        }
      ]
    },
    {
      "cell_type": "code",
      "metadata": {
        "id": "d0LrZVMp-kIb",
        "colab_type": "code",
        "colab": {
          "base_uri": "https://localhost:8080/",
          "height": 104
        },
        "outputId": "84451ae5-73c6-4648-d87c-8b007ea609cf"
      },
      "source": [
        "#But in elegant way!\n",
        "\n",
        "for item in x[::-1]:\n",
        "  print(item)"
      ],
      "execution_count": 10,
      "outputs": [
        {
          "output_type": "stream",
          "text": [
            "16\n",
            "8\n",
            "4\n",
            "2\n",
            "1\n"
          ],
          "name": "stdout"
        }
      ]
    },
    {
      "cell_type": "code",
      "metadata": {
        "id": "fi9xw4Jk-kTu",
        "colab_type": "code",
        "colab": {
          "base_uri": "https://localhost:8080/",
          "height": 104
        },
        "outputId": "8d9d344f-1aba-48be-f887-d8c8a08636c0"
      },
      "source": [
        "#The Pythonic way is to use reversed to get an iterator that yields the items of a\n",
        "#sequence in the reversed order:\n",
        "\n",
        "for item in reversed(x):\n",
        "  print(item)"
      ],
      "execution_count": 11,
      "outputs": [
        {
          "output_type": "stream",
          "text": [
            "16\n",
            "8\n",
            "4\n",
            "2\n",
            "1\n"
          ],
          "name": "stdout"
        }
      ]
    },
    {
      "cell_type": "code",
      "metadata": {
        "id": "tNoRdM9m-il4",
        "colab_type": "code",
        "colab": {
          "base_uri": "https://localhost:8080/",
          "height": 104
        },
        "outputId": "f380dd4b-deee-419a-bafd-55408af6e6d0"
      },
      "source": [
        "#Sometimes you need both the items from a sequence and the corresponding indices:\n",
        "\n",
        "for i in range(len(x)):\n",
        "  print(i, x[i])"
      ],
      "execution_count": 12,
      "outputs": [
        {
          "output_type": "stream",
          "text": [
            "0 1\n",
            "1 2\n",
            "2 4\n",
            "3 8\n",
            "4 16\n"
          ],
          "name": "stdout"
        }
      ]
    },
    {
      "cell_type": "code",
      "metadata": {
        "id": "oBGU_H7Y-uG8",
        "colab_type": "code",
        "colab": {
          "base_uri": "https://localhost:8080/",
          "height": 104
        },
        "outputId": "6a900b82-dc74-4169-ef99-6fbce7edb983"
      },
      "source": [
        "#It’s better to use enumerate to get another iterator that yields the tuples with the indices and items:\n",
        "\n",
        "for i, item in enumerate(x):\n",
        "  print(i, item)"
      ],
      "execution_count": 13,
      "outputs": [
        {
          "output_type": "stream",
          "text": [
            "0 1\n",
            "1 2\n",
            "2 4\n",
            "3 8\n",
            "4 16\n"
          ],
          "name": "stdout"
        }
      ]
    },
    {
      "cell_type": "code",
      "metadata": {
        "id": "hozSxIqw-1Vq",
        "colab_type": "code",
        "colab": {
          "base_uri": "https://localhost:8080/",
          "height": 104
        },
        "outputId": "b3bdf5c8-1172-4a2c-ff67-b10b694b689b"
      },
      "source": [
        "#what if you want to iterate over two or more sequences? Of course, you can use the range again:\n",
        "\n",
        "y = 'abcde'\n",
        "for i in range(len(x)):\n",
        "  print(x[i], y[i])"
      ],
      "execution_count": 14,
      "outputs": [
        {
          "output_type": "stream",
          "text": [
            "1 a\n",
            "2 b\n",
            "4 c\n",
            "8 d\n",
            "16 e\n"
          ],
          "name": "stdout"
        }
      ]
    },
    {
      "cell_type": "code",
      "metadata": {
        "id": "BBZhC051-3Xs",
        "colab_type": "code",
        "colab": {
          "base_uri": "https://localhost:8080/",
          "height": 104
        },
        "outputId": "455dfbb3-13e9-457a-c463-0a55281aa8b3"
      },
      "source": [
        "#In this case, Python also offers a better solution. You can apply zip and get tuples of the corresponding items:\n",
        "\n",
        "for item in zip(x, y):\n",
        "  print(item)"
      ],
      "execution_count": 15,
      "outputs": [
        {
          "output_type": "stream",
          "text": [
            "(1, 'a')\n",
            "(2, 'b')\n",
            "(4, 'c')\n",
            "(8, 'd')\n",
            "(16, 'e')\n"
          ],
          "name": "stdout"
        }
      ]
    },
    {
      "cell_type": "code",
      "metadata": {
        "id": "eiZhGuoP-3kR",
        "colab_type": "code",
        "colab": {
          "base_uri": "https://localhost:8080/",
          "height": 104
        },
        "outputId": "31f7a420-93cc-48e8-8921-38e32d493477"
      },
      "source": [
        "#You can combine it with unpacking:\n",
        "\n",
        "for x_item, y_item in zip(x, y):\n",
        "  print(x_item, y_item)"
      ],
      "execution_count": 16,
      "outputs": [
        {
          "output_type": "stream",
          "text": [
            "1 a\n",
            "2 b\n",
            "4 c\n",
            "8 d\n",
            "16 e\n"
          ],
          "name": "stdout"
        }
      ]
    },
    {
      "cell_type": "code",
      "metadata": {
        "id": "Mecs10z--uJ1",
        "colab_type": "code",
        "colab": {
          "base_uri": "https://localhost:8080/",
          "height": 104
        },
        "outputId": "44256fc4-57bd-4da7-c16c-b2195caaa7ea"
      },
      "source": [
        "#Dictionary can be iterated in these two ways\n",
        "\n",
        "z = {'a': 0, 'b': 1}\n",
        "for k in z:\n",
        "  print(k, z[k])\n",
        "print('')\n",
        "\n",
        "for k, v in z.items():\n",
        "  print(k, v)"
      ],
      "execution_count": 17,
      "outputs": [
        {
          "output_type": "stream",
          "text": [
            "a 0\n",
            "b 1\n",
            "\n",
            "a 0\n",
            "b 1\n"
          ],
          "name": "stdout"
        }
      ]
    },
    {
      "cell_type": "code",
      "metadata": {
        "id": "HI7MLM3w_WfE",
        "colab_type": "code",
        "colab": {
          "base_uri": "https://localhost:8080/",
          "height": 87
        },
        "outputId": "de636f00-1a5d-40f8-efd1-458fdd5247e8"
      },
      "source": [
        "#To print only non zero values from tuple x\n",
        "\n",
        "x = (1, 2, 0, 3, 0, 4)\n",
        "for item in x:\n",
        "    if item != 0:\n",
        "      print(item)"
      ],
      "execution_count": 18,
      "outputs": [
        {
          "output_type": "stream",
          "text": [
            "1\n",
            "2\n",
            "3\n",
            "4\n"
          ],
          "name": "stdout"
        }
      ]
    },
    {
      "cell_type": "code",
      "metadata": {
        "id": "UIhOd43v_fi9",
        "colab_type": "code",
        "colab": {
          "base_uri": "https://localhost:8080/",
          "height": 87
        },
        "outputId": "f162c0fb-c4d9-4fd3-df0c-578805c28746"
      },
      "source": [
        "#The Pythonic way is to exploit the fact that zero is interpreted as False in a Boolean context, while all other numbers are considered as True:\n",
        "\n",
        "for item in x:\n",
        "  if item:\n",
        "    print(item)"
      ],
      "execution_count": 19,
      "outputs": [
        {
          "output_type": "stream",
          "text": [
            "1\n",
            "2\n",
            "3\n",
            "4\n"
          ],
          "name": "stdout"
        }
      ]
    },
    {
      "cell_type": "code",
      "metadata": {
        "id": "orUkwzMe_frb",
        "colab_type": "code",
        "colab": {
          "base_uri": "https://localhost:8080/",
          "height": 87
        },
        "outputId": "611428a5-a28e-42ac-eb66-29c74464428a"
      },
      "source": [
        "\n",
        "#Avoiding Mutable Optional Arguments\n",
        "\n",
        "def func(value, seq=[]):\n",
        "  seq.append(value)\n",
        "  return seq\n",
        "print(func(value=2))\n",
        "print(func(value=4))\n",
        "print(func(value=6))\n",
        "print(func(value=8))"
      ],
      "execution_count": 20,
      "outputs": [
        {
          "output_type": "stream",
          "text": [
            "[2]\n",
            "[2, 4]\n",
            "[2, 4, 6]\n",
            "[2, 4, 6, 8]\n"
          ],
          "name": "stdout"
        }
      ]
    },
    {
      "cell_type": "code",
      "metadata": {
        "id": "6mdXbjeD_Wrd",
        "colab_type": "code",
        "colab": {
          "base_uri": "https://localhost:8080/",
          "height": 35
        },
        "outputId": "a59b1126-350a-4d86-a2ce-6d569428948f"
      },
      "source": [
        "#keep away from that with some additional logic\n",
        "\n",
        "def func(value, seq=None):\n",
        "  if seq is None:\n",
        "    seq = []\n",
        "    seq.append(value)\n",
        "    return seq\n",
        "print(func(value=4))"
      ],
      "execution_count": 21,
      "outputs": [
        {
          "output_type": "stream",
          "text": [
            "[4]\n"
          ],
          "name": "stdout"
        }
      ]
    }
  ]
}